{
 "cells": [
  {
   "cell_type": "code",
   "execution_count": 4,
   "metadata": {},
   "outputs": [
    {
     "name": "stdout",
     "output_type": "stream",
     "text": [
      "Введите количество посетителей:\n",
      "4\n",
      "Введите возраст 1 посетителя:\n",
      "20\n",
      "Введите возраст 2 посетителя:\n",
      "30\n",
      "Введите возраст 3 посетителя:\n",
      "17\n",
      "Введите возраст 4 посетителя:\n",
      "23\n",
      "К оплате 3033 руб.\n"
     ]
    }
   ],
   "source": [
    "def prices():\n",
    "    amount_of_visitors = int(input(\"Введите количество посетителей:\\n\")) # необходимо ввести кол-во посетителей\n",
    "    cost = [] # создадим пустой список для стоимости\n",
    "    for i in range(1, amount_of_visitors + 1):\n",
    "        age = int(input(f\"Введите возраст {i} посетителя:\\n\")) # необходимо ввести возраст каждого посетителя\n",
    "        if 18 <= age <= 24: # если возраст посетителя от 18 до 25 лет — стоимость билета 990 руб.\n",
    "            cost.append(990)\n",
    "        elif 25 <= age:\n",
    "            cost.append(1390) # если возраст посетителя больше 25 лет — стоимость билета 1390 руб.\n",
    "        else:\n",
    "            cost.append(0) # если посетителю конференции менее 18 лет, то он проходит на конференцию бесплатно\n",
    "    if len(cost) >= 4: # если зарегистрировано более 3-х человек, то применяется скидка 10% на полную стоимость заказа\n",
    "        return int(sum(cost) * 0.9)\n",
    "    return sum(cost)\n",
    "\n",
    "print(f\"К оплате {prices()} руб.\") # выводится сообщение \"К оплате ... руб.\""
   ]
  },
  {
   "cell_type": "code",
   "execution_count": null,
   "metadata": {},
   "outputs": [],
   "source": []
  }
 ],
 "metadata": {
  "kernelspec": {
   "display_name": "Python 3",
   "language": "python",
   "name": "python3"
  },
  "language_info": {
   "codemirror_mode": {
    "name": "ipython",
    "version": 3
   },
   "file_extension": ".py",
   "mimetype": "text/x-python",
   "name": "python",
   "nbconvert_exporter": "python",
   "pygments_lexer": "ipython3",
   "version": "3.8.5"
  }
 },
 "nbformat": 4,
 "nbformat_minor": 4
}
