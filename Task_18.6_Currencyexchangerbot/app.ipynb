{
 "cells": [
  {
   "cell_type": "code",
   "execution_count": null,
   "metadata": {},
   "outputs": [],
   "source": [
    "import telebot\n",
    "from config import keys, TOKEN # из файла config подтягиваем значение Токена и названия валют\n",
    "from extensions import ConvertionException, Cryptoconverter # из файла extensions подтягиваем обработчики ошибок\n",
    "\n",
    "\n",
    "bot = telebot.TeleBot(TOKEN)\n",
    "\n",
    "\n",
    "@bot.message_handler(commands=['start', 'help'])  # для обработки команд start и help\n",
    "def help(message: telebot.types.Message):\n",
    "    text = 'Чтобы начать работу, введите команду боту в следующем формате:\\n \\\n",
    "<имя валюты>\\n \\\n",
    "<в какую валюту перевести>\\n \\\n",
    "<количество переводимой валюты>\\n Увидеть список всех доступных валют: /values'\n",
    "    bot.reply_to(message, text)\n",
    "\n",
    "\n",
    "@bot.message_handler(commands=['values'])  # для обработки команды values - названия доступных валют\n",
    "def values(message: telebot.types.Message):\n",
    "    text = 'Доступные валюты:'\n",
    "    for key in keys.keys():\n",
    "        text = '\\n'.join((text, key))\n",
    "    bot.reply_to(message, text)\n",
    "\n",
    "\n",
    "@bot.message_handler(content_types=['text'])  # для обработки конвертации валют\n",
    "def convert(message: telebot.types.Message):\n",
    "    try:\n",
    "        values = message.text.split(' ')\n",
    "\n",
    "        if len(values) != 3:  # проверка, что пользователь ввёл не более трёх необходимых параметров\n",
    "            raise ConvertionException('Неверное количество параметров') # текст для пользователя\n",
    "\n",
    "        quote, base, amount = values\n",
    "        total_base = Cryptoconverter.convert(quote, base, amount)\n",
    "    except ConvertionException as e:\n",
    "        bot.reply_to(message, f'Ошибка пользователя \\n {e}') # текст для пользователя\n",
    "    except Exception as e:\n",
    "        bot.reply_to(message, f'Не удалось обработать команду \\n {e}') # текст для пользователя\n",
    "    else:\n",
    "        text = f'Цена {amount} {quote} в {base} - {total_base}'  # итоговый результат выполненной операции конвертации\n",
    "        bot.send_message(message.chat.id, text)\n",
    "\n",
    "\n",
    "bot.polling()"
   ]
  }
 ],
 "metadata": {
  "kernelspec": {
   "display_name": "Python 3",
   "language": "python",
   "name": "python3"
  },
  "language_info": {
   "codemirror_mode": {
    "name": "ipython",
    "version": 3
   },
   "file_extension": ".py",
   "mimetype": "text/x-python",
   "name": "python",
   "nbconvert_exporter": "python",
   "pygments_lexer": "ipython3",
   "version": "3.8.5"
  }
 },
 "nbformat": 4,
 "nbformat_minor": 4
}
