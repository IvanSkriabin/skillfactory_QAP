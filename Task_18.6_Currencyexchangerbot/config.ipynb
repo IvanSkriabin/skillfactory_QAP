{
 "cells": [
  {
   "cell_type": "code",
   "execution_count": null,
   "metadata": {},
   "outputs": [],
   "source": [
    "TOKEN = '2049192463:AAH0DlRM443h4Us01XTAMeKAP2Ovv6XZp_w' # токен личного бота t.me/Currencyexchanger_1_bot\n",
    "\n",
    "keys = {\n",
    "    'рубль': 'RUR',\n",
    "    'евро': 'EUR',\n",
    "    'доллар': 'USD',\n",
    "    'юань': 'CNY',\n",
    "    'японская_иена': 'JPY',\n",
    "    'фунт_стерлингов': 'GBP'\n",
    "} # названия валют"
   ]
  }
 ],
 "metadata": {
  "kernelspec": {
   "display_name": "Python 3",
   "language": "python",
   "name": "python3"
  },
  "language_info": {
   "codemirror_mode": {
    "name": "ipython",
    "version": 3
   },
   "file_extension": ".py",
   "mimetype": "text/x-python",
   "name": "python",
   "nbconvert_exporter": "python",
   "pygments_lexer": "ipython3",
   "version": "3.8.5"
  }
 },
 "nbformat": 4,
 "nbformat_minor": 4
}
