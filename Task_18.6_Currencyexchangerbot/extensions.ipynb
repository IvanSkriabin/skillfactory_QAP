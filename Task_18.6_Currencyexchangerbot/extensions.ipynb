{
 "cells": [
  {
   "cell_type": "code",
   "execution_count": null,
   "metadata": {},
   "outputs": [],
   "source": [
    "import requests\n",
    "import json\n",
    "from config import keys\n",
    "\n",
    "\n",
    "class ConvertionException(Exception):  # создём личный класс для обработки исключений (то есть ошибок ввода)\n",
    "    pass\n",
    "\n",
    "\n",
    "class Cryptoconverter:\n",
    "    @staticmethod\n",
    "    def convert(quote: str, base: str, amount: str):\n",
    "        if quote == base:  # проверка на ввод двух одинаковых валют - не конвертируем одну и туже валюту\n",
    "            raise ConvertionException('Невозможно перевести одинаковые валюты {base}') # текст для пользователя\n",
    "\n",
    "        try:\n",
    "            quote_ticker = keys[quote]\n",
    "        except KeyError:  # если не правильно введено название валюты, из которой будем конвертировать\n",
    "            raise ConvertionException(f'Не удалось обработать валюту {quote}') # текст для пользователя\n",
    "\n",
    "        try:\n",
    "            base_ticker = keys[base]\n",
    "        except KeyError:  # если не правильно введено название валюты, в которую будем конвертируем\n",
    "            raise ConvertionException(f'Не удалось обработать валюту {base}') # текст для пользователя\n",
    "\n",
    "        try:\n",
    "            amount = float(amount)\n",
    "        except ValueError:  # проверяем, что количество валюты введено правильно, то есть цифрами\n",
    "            raise ConvertionException(f'Не удалось обработать количество {amount}') # текст для пользователя\n",
    "        r = requests.get(f'https://min-api.cryptocompare.com/data/price?fsym={quote_ticker}&tsyms={base_ticker}')\n",
    "        total_base = json.loads(r.content)[keys[base]]\n",
    "\n",
    "        return total_base"
   ]
  }
 ],
 "metadata": {
  "kernelspec": {
   "display_name": "Python 3",
   "language": "python",
   "name": "python3"
  },
  "language_info": {
   "codemirror_mode": {
    "name": "ipython",
    "version": 3
   },
   "file_extension": ".py",
   "mimetype": "text/x-python",
   "name": "python",
   "nbconvert_exporter": "python",
   "pygments_lexer": "ipython3",
   "version": "3.8.5"
  }
 },
 "nbformat": 4,
 "nbformat_minor": 4
}
