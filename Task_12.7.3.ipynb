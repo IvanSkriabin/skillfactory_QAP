{
 "cells": [
  {
   "cell_type": "code",
   "execution_count": 1,
   "metadata": {},
   "outputs": [
    {
     "name": "stdout",
     "output_type": "stream",
     "text": [
      "Введите сумму вклада: 100000\n",
      "deposit = [5600, 5900, 4280, 4000]\n",
      "Максимальная сумма, которую вы можете заработать — 5900\n"
     ]
    }
   ],
   "source": [
    "# словарь per_cent с распределением процентных ставок по вкладам в различных банках таким образом, что ключ — название \n",
    "# банка, значение — процент\n",
    "per_cent = {'ТКБ': 5.6, 'СКБ': 5.9, 'ВТБ': 4.28, 'СБЕР': 4.0} \n",
    "\n",
    "money = int(input(\"Введите сумму вклада: \")) # необходимо ввести сумму денежных средств, которую вносят на депозит\n",
    "# например, ввести 100000\n",
    "\n",
    "deposit = [int(money*value/100) for value in per_cent.values()] # формируем список deposit значений — накопленные средства \n",
    "# за год вклада в каждом из банков\n",
    "\n",
    "print(f\"deposit = {deposit}\") # выводим список deposit на экран\n",
    "print(f\"Максимальная сумма, которую вы можете заработать — {max(deposit)}\") # выводим max значение среди элементов в списке"
   ]
  },
  {
   "cell_type": "code",
   "execution_count": null,
   "metadata": {},
   "outputs": [],
   "source": []
  }
 ],
 "metadata": {
  "kernelspec": {
   "display_name": "Python 3",
   "language": "python",
   "name": "python3"
  },
  "language_info": {
   "codemirror_mode": {
    "name": "ipython",
    "version": 3
   },
   "file_extension": ".py",
   "mimetype": "text/x-python",
   "name": "python",
   "nbconvert_exporter": "python",
   "pygments_lexer": "ipython3",
   "version": "3.8.5"
  }
 },
 "nbformat": 4,
 "nbformat_minor": 4
}
